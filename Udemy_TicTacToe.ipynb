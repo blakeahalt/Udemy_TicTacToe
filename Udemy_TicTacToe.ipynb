{
 "cells": [
  {
   "cell_type": "code",
   "execution_count": 236,
   "metadata": {},
   "outputs": [
    {
     "name": "stdout",
     "output_type": "stream",
     "text": [
      "O  |  O  |  O\n",
      "-------------\n",
      "X  |  X  |  O\n",
      "-------------\n",
      "X  |  X  |  X\n"
     ]
    }
   ],
   "source": [
    "from IPython.display import clear_output\n",
    "\n",
    "def display_board(board):\n",
    "    clear_output()\n",
    "    print(board[7]+'  |  '+board[8] + '  |  '+board[9])\n",
    "    print('-------------')\n",
    "    print(board[4]+'  |  '+board[5] + '  |  '+board[6])\n",
    "    print('-------------')\n",
    "    print(board[1]+'  |  '+board[2] + '  |  '+board[3])\n",
    "test_board = ['X','X','X','X','X','X','O','O','O','O',]\n",
    "display_board(test_board)"
   ]
  },
  {
   "cell_type": "code",
   "execution_count": 237,
   "metadata": {},
   "outputs": [],
   "source": [
    "def player_input():\n",
    "    marker = ''\n",
    "    while marker !='X' and marker !='O':\n",
    "        marker = input('Player 1: X or O ').upper()\n",
    "    if marker == 'X':\n",
    "        return ('X','O')\n",
    "    else:\n",
    "        return ('O','X')\n",
    "\n",
    "    player1_marker, player2_marker = player1_input()"
   ]
  },
  {
   "cell_type": "code",
   "execution_count": 238,
   "metadata": {},
   "outputs": [],
   "source": [
    "def place_marker(board, marker, position):\n",
    "    board[position]=marker"
   ]
  },
  {
   "cell_type": "code",
   "execution_count": 239,
   "metadata": {},
   "outputs": [
    {
     "name": "stdout",
     "output_type": "stream",
     "text": [
      "1  |  O  |  O\n",
      "-------------\n",
      "X  |  X  |  O\n",
      "-------------\n",
      "X  |  X  |  X\n"
     ]
    }
   ],
   "source": [
    "place_marker(test_board, '1', (7))\n",
    "display_board(test_board)"
   ]
  },
  {
   "cell_type": "code",
   "execution_count": 240,
   "metadata": {},
   "outputs": [],
   "source": [
    "def win_check(board, mark):\n",
    "    return(\n",
    "    (board[1]==board[2]==board[3]==mark) or\n",
    "    (board[4]==board[5]==board[6]==mark)or\n",
    "    (board[7]==board[8]==board[9]==mark)or\n",
    "    (board[1]==board[4]==board[7]==mark)or\n",
    "    (board[2]==board[5]==board[8]==mark)or\n",
    "    (board[3]==board[6]==board[9]==mark)or\n",
    "    (board[1]==board[5]==board[9]==mark)or\n",
    "    (board[7]==board[5]==board[3]==mark))"
   ]
  },
  {
   "cell_type": "code",
   "execution_count": 241,
   "metadata": {},
   "outputs": [
    {
     "name": "stdout",
     "output_type": "stream",
     "text": [
      "1  |  O  |  O\n",
      "-------------\n",
      "X  |  X  |  O\n",
      "-------------\n",
      "X  |  X  |  X\n"
     ]
    },
    {
     "data": {
      "text/plain": [
       "False"
      ]
     },
     "execution_count": 241,
     "metadata": {},
     "output_type": "execute_result"
    }
   ],
   "source": [
    "display_board(test_board)\n",
    "win_check(test_board,'O')"
   ]
  },
  {
   "cell_type": "code",
   "execution_count": 242,
   "metadata": {},
   "outputs": [],
   "source": [
    "import random\n",
    "def choose_first():\n",
    "    flip = random.randint(0,1)\n",
    "    if flip == 0:\n",
    "        return 'Player 1'\n",
    "    else:\n",
    "        return 'Player 2'"
   ]
  },
  {
   "cell_type": "code",
   "execution_count": 243,
   "metadata": {},
   "outputs": [],
   "source": [
    "def freespace_check(board, position):\n",
    "    return board[position]==''"
   ]
  },
  {
   "cell_type": "code",
   "execution_count": 244,
   "metadata": {},
   "outputs": [],
   "source": [
    "def full_board_check(board):\n",
    "    for i in range(1,10):\n",
    "        if freespace_check(board, i):\n",
    "            return False\n",
    "    return True    "
   ]
  },
  {
   "cell_type": "code",
   "execution_count": 245,
   "metadata": {},
   "outputs": [],
   "source": [
    "def player_choice(board):\n",
    "    position = 0\n",
    "    while position not in [1,2,3,4,5,6,7,8,9] or not freespace_check(board, position):\n",
    "        position = int(input('Where\\'s it gonna be Slick?:(1-9)'))\n",
    "    return position"
   ]
  },
  {
   "cell_type": "code",
   "execution_count": 248,
   "metadata": {},
   "outputs": [],
   "source": [
    "def replay():\n",
    "    choice = input(\"Play again? Y or N \").upper()\n",
    "    return choice == 'Y'"
   ]
  },
  {
   "cell_type": "code",
   "execution_count": null,
   "metadata": {},
   "outputs": [
    {
     "name": "stdout",
     "output_type": "stream",
     "text": [
      "X  |  O  |  X\n",
      "-------------\n",
      "X  |  X  |  O\n",
      "-------------\n",
      "O  |  O  |  X\n",
      "Player 1! Winna Winna, Chickin Dinna!\n"
     ]
    }
   ],
   "source": [
    "print('Yo yo yo, It\\'s TIC TAC TOE!')\n",
    "while True:\n",
    "        \n",
    "    the_board=['']*10\n",
    "    player1_marker, player2_marker = player_input()\n",
    "    turn = choose_first()\n",
    "    print(turn + ', You\\'re up first!')\n",
    "        \n",
    "    play_game = input('Go Time? y or n: ')\n",
    "    if play_game=='y':\n",
    "         game_on = True\n",
    "    else:\n",
    "         game_on = False\n",
    "            \n",
    "    while game_on:\n",
    "        if turn == 'Player 1':\n",
    "            display_board(the_board)\n",
    "            position = player_choice(the_board)\n",
    "            place_marker(the_board, player1_marker, position)\n",
    "            if win_check(the_board, player1_marker):\n",
    "                display_board(the_board)\n",
    "                print('Player 1! Winna Winna, Chickin Dinna!')\n",
    "                game_on = False\n",
    "            else:\n",
    "                if full_board_check(the_board):\n",
    "                    display_board(the_board)\n",
    "                    print(\"TIE GAME!\")\n",
    "                    game_on = False\n",
    "                else:\n",
    "                    turn = 'Player 2'\n",
    "        else:\n",
    "            display_board(the_board)\n",
    "            position = player_choice(the_board)\n",
    "            place_marker(the_board, player2_marker, position)\n",
    "            if win_check(the_board, player2_marker):\n",
    "                display_board(the_board)\n",
    "                print('Player 2! Winna Winna, Chickin Dinna!')\n",
    "                game_on = False\n",
    "            else:\n",
    "                if full_board_check(the_board):\n",
    "                    display_board(the_board)\n",
    "                    print(\"TIE GAME!\")\n",
    "                    game_on = False\n",
    "                else:\n",
    "                    turn = 'Player 1'\n",
    "\n",
    "    if not replay():\n",
    "        break"
   ]
  }
 ],
 "metadata": {
  "kernelspec": {
   "display_name": "Python 3",
   "language": "python",
   "name": "python3"
  },
  "language_info": {
   "codemirror_mode": {
    "name": "ipython",
    "version": 3
   },
   "file_extension": ".py",
   "mimetype": "text/x-python",
   "name": "python",
   "nbconvert_exporter": "python",
   "pygments_lexer": "ipython3",
   "version": "3.6.5"
  }
 },
 "nbformat": 4,
 "nbformat_minor": 2
}
